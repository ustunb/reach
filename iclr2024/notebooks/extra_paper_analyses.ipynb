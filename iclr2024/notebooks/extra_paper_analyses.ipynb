{
 "cells": [
  {
   "cell_type": "code",
   "execution_count": 40,
   "id": "76dd357b-74ce-427a-bb0c-9846c65c306e",
   "metadata": {},
   "outputs": [],
   "source": [
    "import sys\n",
    "sys.path.append(\"..\")\n",
    "import pandas as pd\n",
    "import pickle"
   ]
  },
  {
   "cell_type": "markdown",
   "id": "69218953-aa8b-45f5-8fb2-0be29d198972",
   "metadata": {},
   "source": [
    "## Timings"
   ]
  },
  {
   "cell_type": "code",
   "execution_count": 25,
   "id": "37d82db9-d56c-4572-bbf9-7c6981b3cbc6",
   "metadata": {},
   "outputs": [],
   "source": [
    "timing_stats = pd.concat(\n",
    "    [pd.read_csv(f\"../results/{dataset}_gen_db_stats.csv\", index_col=None).assign(dataset=dataset)\n",
    "    for dataset in [\"fico\", \"german\", \"givemecredit\"]]\n",
    ")"
   ]
  },
  {
   "cell_type": "code",
   "execution_count": 26,
   "id": "06a4c8b4-11f3-4d33-a897-c84bf85f0cdd",
   "metadata": {},
   "outputs": [
    {
     "data": {
      "text/html": [
       "<div>\n",
       "<style scoped>\n",
       "    .dataframe tbody tr th:only-of-type {\n",
       "        vertical-align: middle;\n",
       "    }\n",
       "\n",
       "    .dataframe tbody tr th {\n",
       "        vertical-align: top;\n",
       "    }\n",
       "\n",
       "    .dataframe thead tr th {\n",
       "        text-align: left;\n",
       "    }\n",
       "\n",
       "    .dataframe thead tr:last-of-type th {\n",
       "        text-align: right;\n",
       "    }\n",
       "</style>\n",
       "<table border=\"1\" class=\"dataframe\">\n",
       "  <thead>\n",
       "    <tr>\n",
       "      <th></th>\n",
       "      <th colspan=\"2\" halign=\"left\">Unnamed: 0</th>\n",
       "      <th colspan=\"2\" halign=\"left\">n_points</th>\n",
       "      <th colspan=\"2\" halign=\"left\">complete</th>\n",
       "      <th colspan=\"2\" halign=\"left\">time</th>\n",
       "    </tr>\n",
       "    <tr>\n",
       "      <th></th>\n",
       "      <th>mean</th>\n",
       "      <th>max</th>\n",
       "      <th>mean</th>\n",
       "      <th>max</th>\n",
       "      <th>mean</th>\n",
       "      <th>max</th>\n",
       "      <th>mean</th>\n",
       "      <th>max</th>\n",
       "    </tr>\n",
       "    <tr>\n",
       "      <th>dataset</th>\n",
       "      <th></th>\n",
       "      <th></th>\n",
       "      <th></th>\n",
       "      <th></th>\n",
       "      <th></th>\n",
       "      <th></th>\n",
       "      <th></th>\n",
       "      <th></th>\n",
       "    </tr>\n",
       "  </thead>\n",
       "  <tbody>\n",
       "    <tr>\n",
       "      <th>fico</th>\n",
       "      <td>2807.5</td>\n",
       "      <td>5615</td>\n",
       "      <td>9661.209758</td>\n",
       "      <td>123904</td>\n",
       "      <td>1.0</td>\n",
       "      <td>True</td>\n",
       "      <td>1.473479</td>\n",
       "      <td>7.088939</td>\n",
       "    </tr>\n",
       "    <tr>\n",
       "      <th>german</th>\n",
       "      <td>498.0</td>\n",
       "      <td>996</td>\n",
       "      <td>106.808425</td>\n",
       "      <td>432</td>\n",
       "      <td>1.0</td>\n",
       "      <td>True</td>\n",
       "      <td>0.163755</td>\n",
       "      <td>0.386051</td>\n",
       "    </tr>\n",
       "    <tr>\n",
       "      <th>givemecredit</th>\n",
       "      <td>747.0</td>\n",
       "      <td>1494</td>\n",
       "      <td>58.763211</td>\n",
       "      <td>432</td>\n",
       "      <td>1.0</td>\n",
       "      <td>True</td>\n",
       "      <td>0.150193</td>\n",
       "      <td>0.246207</td>\n",
       "    </tr>\n",
       "  </tbody>\n",
       "</table>\n",
       "</div>"
      ],
      "text/plain": [
       "             Unnamed: 0           n_points         complete            time  \\\n",
       "                   mean   max         mean     max     mean   max      mean   \n",
       "dataset                                                                       \n",
       "fico             2807.5  5615  9661.209758  123904      1.0  True  1.473479   \n",
       "german            498.0   996   106.808425     432      1.0  True  0.163755   \n",
       "givemecredit      747.0  1494    58.763211     432      1.0  True  0.150193   \n",
       "\n",
       "                        \n",
       "                   max  \n",
       "dataset                 \n",
       "fico          7.088939  \n",
       "german        0.386051  \n",
       "givemecredit  0.246207  "
      ]
     },
     "execution_count": 26,
     "metadata": {},
     "output_type": "execute_result"
    }
   ],
   "source": [
    "timing_stats.groupby(\"dataset\").agg([\"mean\", \"max\"])"
   ]
  },
  {
   "cell_type": "code",
   "execution_count": 45,
   "id": "0f2828ed-381b-43b4-8ea2-9f791774b97c",
   "metadata": {},
   "outputs": [],
   "source": [
    "from time import time"
   ]
  },
  {
   "cell_type": "code",
   "execution_count": 46,
   "id": "df73c759-e868-4f70-9c2c-bef023b4c00b",
   "metadata": {},
   "outputs": [
    {
     "data": {
      "text/plain": [
       "0.02065277099609375"
      ]
     },
     "execution_count": 46,
     "metadata": {},
     "output_type": "execute_result"
    }
   ],
   "source": [
    "start = time()\n",
    "fico_xgb_data[\"data\"][\"model\"].predict(fico_data[\"data\"].X)\n",
    "time() - start"
   ]
  },
  {
   "cell_type": "code",
   "execution_count": 47,
   "id": "4228a6f6-3587-4b4c-9209-a5332981f233",
   "metadata": {},
   "outputs": [],
   "source": [
    "with open(\"../data/fico_complex_nD.data\", \"rb\") as f:\n",
    "    fico_data = pickle.load(f)"
   ]
  },
  {
   "cell_type": "code",
   "execution_count": 31,
   "id": "523a0eb5-24df-4d6c-9124-bcd0f105224c",
   "metadata": {},
   "outputs": [],
   "source": [
    "with open(\"../results/fico_complex_nD_xgb_processed.model\", \"rb\") as f:\n",
    "    fico_xgb_data = pickle.load(f)"
   ]
  },
  {
   "cell_type": "code",
   "execution_count": 48,
   "id": "253bee04-592d-48f9-bcd7-8cc4fbf08595",
   "metadata": {},
   "outputs": [],
   "source": [
    "with open(\"../results/fico_complex_nD_xgb_dice.audit\", \"rb\") as f:\n",
    "    fico_xgb_audit = pickle.load(f)"
   ]
  },
  {
   "cell_type": "markdown",
   "id": "c7bc17b9-340e-46a3-abf6-e1b3120669c5",
   "metadata": {},
   "source": [
    "## Dice loopholes that modify several features"
   ]
  },
  {
   "cell_type": "code",
   "execution_count": 162,
   "id": "11697829-4f5b-4fee-888a-7e645783234e",
   "metadata": {},
   "outputs": [],
   "source": [
    "num_action_threshold = 5"
   ]
  },
  {
   "cell_type": "code",
   "execution_count": 141,
   "id": "2f08d711-8145-4af4-822e-41f87cb45bd6",
   "metadata": {},
   "outputs": [],
   "source": [
    "audit_df = pd.DataFrame(fico_xgb_audit[\"data\"].values())"
   ]
  },
  {
   "cell_type": "code",
   "execution_count": 166,
   "id": "0ee0a631-cc06-4fdf-b512-47bfb04e19f7",
   "metadata": {},
   "outputs": [
    {
     "data": {
      "text/plain": [
       "0.2689199118295371"
      ]
     },
     "execution_count": 166,
     "metadata": {},
     "output_type": "execute_result"
    }
   ],
   "source": [
    "num_actions = (\n",
    "    audit_df\n",
    "    .query(\"actionable == False and recourse_exists == True and orig_prediction == False\")\n",
    "    .apply(lambda val: abs(val.a.sum()), axis=1)\n",
    "    .dropna()\n",
    ")\n",
    "\n",
    "multiple_change_indices = num_actions[num_actions >= 12].index\n",
    "(num_actions >= 5).mean()"
   ]
  },
  {
   "cell_type": "code",
   "execution_count": 167,
   "id": "b5af2b96-1535-494b-abff-79f5769e3981",
   "metadata": {},
   "outputs": [
    {
     "data": {
      "text/plain": [
       "1428"
      ]
     },
     "execution_count": 167,
     "metadata": {},
     "output_type": "execute_result"
    }
   ],
   "source": [
    "target_idx = multiple_change_indices[0]\n",
    "target_idx"
   ]
  },
  {
   "cell_type": "code",
   "execution_count": 183,
   "id": "231962db-fa89-4d0a-b241-023c04cfa82e",
   "metadata": {},
   "outputs": [
    {
     "name": "stdout",
     "output_type": "stream",
     "text": [
      "                                           x    a\n",
      "ExternalRiskEstimate_geq_40              1.0  0.0\n",
      "ExternalRiskEstimate_geq_50              1.0  0.0\n",
      "ExternalRiskEstimate_geq_60              1.0  0.0\n",
      "ExternalRiskEstimate_geq_70              0.0  0.0\n",
      "ExternalRiskEstimate_geq_80              0.0  0.0\n",
      "YearsOfAccountHistory                   10.0  0.0\n",
      "AvgYearsInFile_geq_3                     1.0  0.0\n",
      "AvgYearsInFile_geq_5                     1.0  0.0\n",
      "AvgYearsInFile_geq_7                     0.0  0.0\n",
      "MostRecentTradeWithinLastYear            1.0 -1.0\n",
      "MostRecentTradeWithinLast2Years          1.0  0.0\n",
      "AnyDerogatoryComment                     0.0  0.0\n",
      "AnyTrade120DaysDelq                      0.0  0.0\n",
      "AnyTrade90DaysDelq                       0.0  0.0\n",
      "AnyTrade60DaysDelq                       0.0  0.0\n",
      "AnyTrade30DaysDelq                       0.0  0.0\n",
      "NoDelqEver                               1.0  0.0\n",
      "YearsSinceLastDelqTrade_leq_1            1.0  0.0\n",
      "YearsSinceLastDelqTrade_leq_3            1.0  0.0\n",
      "YearsSinceLastDelqTrade_leq_5            1.0  0.0\n",
      "NumInstallTrades_geq_2                   0.0  0.0\n",
      "NumInstallTradesWBalance_geq_2           0.0  0.0\n",
      "NumRevolvingTrades_geq_2                 1.0 -1.0\n",
      "NumRevolvingTradesWBalance_geq_2         1.0  0.0\n",
      "NumInstallTrades_geq_3                   0.0 -1.0\n",
      "NumInstallTradesWBalance_geq_3           0.0  0.0\n",
      "NumRevolvingTrades_geq_3                 0.0  0.0\n",
      "NumRevolvingTradesWBalance_geq_3         1.0 -1.0\n",
      "NumInstallTrades_geq_5                   0.0 -1.0\n",
      "NumInstallTradesWBalance_geq_5           0.0  0.0\n",
      "NumRevolvingTrades_geq_5                 0.0  0.0\n",
      "NumRevolvingTradesWBalance_geq_5         1.0  0.0\n",
      "NumInstallTrades_geq_7                   0.0  0.0\n",
      "NumInstallTradesWBalance_geq_7           0.0  0.0\n",
      "NumRevolvingTrades_geq_7                 0.0  0.0\n",
      "NumRevolvingTradesWBalance_geq_7         1.0 -1.0\n",
      "NetFractionInstallBurden_geq_10          1.0 -1.0\n",
      "NetFractionInstallBurden_geq_20          1.0  0.0\n",
      "NetFractionInstallBurden_geq_50          1.0 -1.0\n",
      "NetFractionRevolvingBurden_geq_10        1.0 -1.0\n",
      "NetFractionRevolvingBurden_geq_20        1.0 -1.0\n",
      "NetFractionRevolvingBurden_geq_50        0.0 -1.0\n",
      "NumBank2NatlTradesWHighUtilizationGeq2   1.0 -1.0\n"
     ]
    }
   ],
   "source": [
    "print(pd.DataFrame(\n",
    "    np.vstack([\n",
    "        fico_data[\"data\"].X_df.loc[target_idx].values,\n",
    "        audit_df.loc[target_idx].a\n",
    "    ]).T,\n",
    "    index=fico_data[\"data\"].X_df.columns,\n",
    "    columns=[\"x\", \"a\"]\n",
    "))"
   ]
  }
 ],
 "metadata": {
  "kernelspec": {
   "display_name": "Python 3 (ipykernel)",
   "language": "python",
   "name": "python3"
  },
  "language_info": {
   "codemirror_mode": {
    "name": "ipython",
    "version": 3
   },
   "file_extension": ".py",
   "mimetype": "text/x-python",
   "name": "python",
   "nbconvert_exporter": "python",
   "pygments_lexer": "ipython3",
   "version": "3.10.12"
  }
 },
 "nbformat": 4,
 "nbformat_minor": 5
}
